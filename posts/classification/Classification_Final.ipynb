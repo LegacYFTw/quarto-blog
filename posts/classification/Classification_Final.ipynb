{
 "cells": [
  {
   "cell_type": "raw",
   "metadata": {},
   "source": [
    "---\n",
    "title: \"Classifying Bengali MNIST using a Hybrid Quantum Neural Network\"\n",
    "description: \"Classifying using quantum machine learning.\"\n",
    "author: \"Turbasu Chatterjee\"\n",
    "date: \"11/14/2023\"\n",
    "toc: true\n",
    "categories:\n",
    "  - class-project\n",
    "  - machine-learning\n",
    "  - classification\n",
    "  - quantum-computing\n",
    "---"
   ]
  },
  {
   "cell_type": "markdown",
   "metadata": {
    "id": "o9mEcNjV6MCa"
   },
   "source": [
    "\n",
    "The bengali language, commonly known as bangla is one which is spoken by the people native to the Bengal region of South Asia. It is the sixth most spoken native language and the seventh most spoken language in the world. Machine learning has seen tremendous advancements over the past decade, and one of the most exciting developments in the field is the fusion of quantum computing with traditional neural networks. Quantum computing's ability to process vast amounts of data and perform complex calculations has opened up new possibilities for solving real-world problems. In this post, we shall see how the juxtaposition of machine learning, quantum computing and the bengali language, i.e., my native language plays out.\n",
    "\n",
    "In this blog, we shall use the bengali MNIST dataset from Kaggle to train a neural network with one convolution layer. But first, let us fetch the data from Kaggle."
   ]
  },
  {
   "cell_type": "code",
   "execution_count": null,
   "metadata": {
    "id": "Zo-CjuvBAXvG"
   },
   "outputs": [],
   "source": [
    "!kaggle datasets download -d truthr/banglamnist"
   ]
  },
  {
   "cell_type": "markdown",
   "metadata": {
    "id": "3FjegbxgAbYb"
   },
   "source": [
    "We shall now unzip the dataset for our needs."
   ]
  },
  {
   "cell_type": "code",
   "execution_count": null,
   "metadata": {
    "id": "xKGOXrjRAaeZ"
   },
   "outputs": [],
   "source": [
    "!unzip ./banglamnist.zip"
   ]
  },
  {
   "cell_type": "markdown",
   "metadata": {
    "id": "RfhAATleAlqT"
   },
   "source": [
    "Once done, we shall import necessary libraries. In our case, we shall be using the ```torch``` library to build our neural network. This neural network would have a quantum layer in it which we shall use. This quantum layer is built using the ```qiskit``` library."
   ]
  },
  {
   "cell_type": "code",
   "execution_count": null,
   "metadata": {
    "id": "6v_XTRD86E5C"
   },
   "outputs": [],
   "source": [
    "import os\n",
    "import numpy as np\n",
    "import matplotlib.pyplot as plt\n",
    "import pandas as pd\n",
    "\n",
    "import torch\n",
    "from torch.autograd import Function\n",
    "from torchvision import datasets, transforms\n",
    "import torch.optim as optim\n",
    "import torch.nn as nn\n",
    "import torch.nn.functional as F\n",
    "from torch.utils.data import Dataset, DataLoader\n",
    "\n",
    "from torchsummary import summary\n",
    "\n",
    "import qiskit\n",
    "from qiskit.visualization import *\n",
    "\n",
    "from PIL import Image"
   ]
  },
  {
   "cell_type": "code",
   "execution_count": null,
   "metadata": {
    "id": "1CJRvRC06O6f"
   },
   "outputs": [],
   "source": [
    "%matplotlib inline"
   ]
  },
  {
   "cell_type": "code",
   "execution_count": null,
   "metadata": {
    "colab": {
     "base_uri": "https://localhost:8080/",
     "height": 35
    },
    "id": "KQa0HStu6RBm",
    "outputId": "c4b3bf90-0034-48d4-801e-ff57a47eaa1a"
   },
   "outputs": [
    {
     "data": {
      "application/vnd.google.colaboratory.intrinsic+json": {
       "type": "string"
      },
      "text/plain": [
       "'1.8.1+cu101'"
      ]
     },
     "execution_count": 7,
     "metadata": {
      "tags": []
     },
     "output_type": "execute_result"
    }
   ],
   "source": [
    "torch.__version__"
   ]
  },
  {
   "cell_type": "markdown",
   "metadata": {
    "id": "_lBalvD47kxs"
   },
   "source": [
    "In this notebook, we shall rely on the GPU to speed up the training process for the classical convolution layers. Here we check if the ```CUDA``` is available for use by the ```torch``` library."
   ]
  },
  {
   "cell_type": "code",
   "execution_count": null,
   "metadata": {
    "colab": {
     "base_uri": "https://localhost:8080/"
    },
    "id": "EQbrErtu7l9Z",
    "outputId": "98d8c515-8f2c-4163-b259-f5174c212e17"
   },
   "outputs": [
    {
     "name": "stdout",
     "output_type": "stream",
     "text": [
      "CUDA available: True\n",
      "Training on GPU...\n"
     ]
    }
   ],
   "source": [
    "use_cuda = torch.cuda.is_available()\n",
    "\n",
    "print('CUDA available:', use_cuda)\n",
    "\n",
    "if use_cuda:\n",
    "    device = torch.device('cuda')\n",
    "    print('Training on GPU...')\n",
    "else:\n",
    "    device = torch.device('cpu')\n",
    "    print('Training on CPU...')"
   ]
  },
  {
   "cell_type": "markdown",
   "metadata": {
    "id": "hv4Ubfb063QJ"
   },
   "source": [
    "# Data Preprocessing\n",
    "\n",
    "Our dataset, as it turns out is a bunch of jpg pictures. In order for these images to be readable by the neural network, we shall convert them into image tensors, and associate each tensor with a label from the csv file provided. In this class we build  a ```BanglaMNISTDataset``` class that does exactly that with the using its private functions.\n",
    "\n"
   ]
  },
  {
   "cell_type": "code",
   "execution_count": null,
   "metadata": {
    "id": "uIsFlkd_64pY"
   },
   "outputs": [],
   "source": [
    "class BanglaMNISTDataset(Dataset):\n",
    "    def __init__(self, annotations_file, img_dir, transform=None, n_samples=None):\n",
    "        self.img_labels = pd.read_csv(annotations_file)\n",
    "        self.img_dir = img_dir\n",
    "        self.transform = transform\n",
    "        self.n_samples = n_samples\n",
    "\n",
    "        self.data, self.targets = self._load_data()\n",
    "\n",
    "        # print(self.img_labels)\n",
    "\n",
    "    def __len__(self):\n",
    "        return len(self.targets)\n",
    "\n",
    "    def _load_data(self):\n",
    "        data = []\n",
    "        for idx, row in self.img_labels.iterrows():\n",
    "          filename, label = row.filename, row.digit\n",
    "          img = Image.open(os.path.join(self.img_dir, str(filename)))\n",
    "          if self.transform:\n",
    "              img = self.transform(img)\n",
    "          data += [img]\n",
    "          if self.n_samples:\n",
    "            if idx >= self.n_samples:\n",
    "              break\n",
    "        targets = torch.tensor(self.img_labels['digit'].values.astype(np.float32)[:self.n_samples])\n",
    "        shape = list(data[0].shape)\n",
    "        shape[0] = len(data)\n",
    "        out_data = torch.Tensor(*shape)\n",
    "        torch.cat(data, out=out_data)\n",
    "\n",
    "        return out_data, targets\n",
    "\n",
    "        # return data, targets\n",
    "\n",
    "    def __getitem__(self, idx):\n",
    "        img_path = os.path.join(self.img_dir, self.img_labels.iloc[idx, 1])\n",
    "        img_id = self.img_labels.iloc[idx, 1]\n",
    "        img = Image.open(os.path.join(self.img_dir, img_id))\n",
    "        label = self.img_labels.iloc[idx, 2]\n",
    "        # print(img)\n",
    "        if self.transform:\n",
    "            image = self.transform(img)\n",
    "        return (image, label)"
   ]
  },
  {
   "cell_type": "markdown",
   "metadata": {
    "id": "oWwonHZfI8YC"
   },
   "source": [
    "In this part, we first transform the image to grayscale, resize the images to dimensions 28 x 28 and then output a tensor."
   ]
  },
  {
   "cell_type": "code",
   "execution_count": null,
   "metadata": {
    "id": "dk-hMyI37uo3"
   },
   "outputs": [],
   "source": [
    "trans = transforms.Compose([\n",
    "                            transforms.Grayscale(),\n",
    "                            transforms.Resize((28, 28)),\n",
    "                            transforms.ToTensor()\n",
    "                            ])"
   ]
  },
  {
   "cell_type": "markdown",
   "metadata": {
    "id": "vfrUjtXIExi7"
   },
   "source": [
    "Now once we have achieved that, we shall use labelled data to train the classifier. This is done by making an object of the ```BanglaMNISTDataset``` and using labelled, transformed data."
   ]
  },
  {
   "cell_type": "code",
   "execution_count": null,
   "metadata": {
    "id": "OIbcZker7x9p"
   },
   "outputs": [],
   "source": [
    "n_samples = 1024\n",
    "batch_size = 64\n",
    "\n",
    "X_train = BanglaMNISTDataset(annotations_file='labels.csv',\n",
    "                           img_dir='bangla-mnist/labeled/',\n",
    "                           transform=trans, n_samples=10000)\n",
    "\n",
    "X_train.data = X_train.data[:n_samples]\n",
    "X_train.targets = X_train.targets[:n_samples]\n",
    "\n",
    "train_loader = torch.utils.data.DataLoader(X_train, batch_size=batch_size, shuffle=True)"
   ]
  },
  {
   "cell_type": "markdown",
   "metadata": {
    "id": "FNvSg_ltJ4Fc"
   },
   "source": [
    "To make sure, we did okay, we shall now check the data and make sure they are correctly associated with the labels."
   ]
  },
  {
   "cell_type": "code",
   "execution_count": null,
   "metadata": {
    "colab": {
     "base_uri": "https://localhost:8080/",
     "height": 130
    },
    "id": "g3JMP5N681dj",
    "outputId": "672d966d-f730-4f92-c526-25f4732d8ca0"
   },
   "outputs": [
    {
     "data": {
      "image/png": "[encoded data removed]",
      "text/plain": [
       "<Figure size 720x216 with 6 Axes>"
      ]
     },
     "metadata": {
      "tags": []
     },
     "output_type": "display_data"
    }
   ],
   "source": [
    "# check MNIST data\n",
    "\n",
    "n_samples_show = 6\n",
    "\n",
    "data_iter = iter(train_loader)\n",
    "fig, axes = plt.subplots(nrows=1, ncols=n_samples_show, figsize=(10, 3))\n",
    "\n",
    "images, targets = data_iter.__next__()\n",
    "\n",
    "\n",
    "while n_samples_show > 0:\n",
    "    axes[n_samples_show - 1].imshow(images[n_samples_show].numpy().squeeze(), cmap='gray')\n",
    "    axes[n_samples_show - 1].set_xticks([])\n",
    "    axes[n_samples_show - 1].set_yticks([])\n",
    "    axes[n_samples_show - 1].set_title(\"Labeled: {}\".format(int(targets[n_samples_show])))\n",
    "\n",
    "    n_samples_show -= 1"
   ]
  },
  {
   "cell_type": "markdown",
   "metadata": {
    "id": "S2zK7VH4FGys"
   },
   "source": [
    "Now we use the same strategy to see if the test dataset is working correctly\n",
    "\n"
   ]
  },
  {
   "cell_type": "code",
   "execution_count": null,
   "metadata": {
    "id": "j5_pUjnSFGKC"
   },
   "outputs": [],
   "source": [
    "n_samples = 2048\n",
    "\n",
    "X_test = BanglaMNISTDataset(annotations_file='labels.csv',\n",
    "                           img_dir='bangla-mnist/labeled/',\n",
    "                           transform=trans, n_samples=5000)\n",
    "\n",
    "X_test.data = X_test.data[:n_samples]\n",
    "X_test.targets = X_test.targets[:n_samples]\n",
    "\n",
    "test_loader = torch.utils.data.DataLoader(X_test, batch_size=batch_size, shuffle=True)"
   ]
  },
  {
   "cell_type": "code",
   "execution_count": null,
   "metadata": {
    "colab": {
     "base_uri": "https://localhost:8080/",
     "height": 130
    },
    "id": "pdGpFolWEvdv",
    "outputId": "f2ff23d8-e030-4481-ddae-d9128d7c955d"
   },
   "outputs": [
    {
     "data": {
      "image/png": "[encoded data removed]",
      "text/plain": [
       "<Figure size 720x216 with 6 Axes>"
      ]
     },
     "metadata": {
      "tags": []
     },
     "output_type": "display_data"
    }
   ],
   "source": [
    "# check MNIST data\n",
    "\n",
    "n_samples_show = 6\n",
    "\n",
    "data_iter = iter(test_loader)\n",
    "fig, axes = plt.subplots(nrows=1, ncols=n_samples_show, figsize=(10, 3))\n",
    "\n",
    "images, targets = data_iter.__next__()\n",
    "\n",
    "while n_samples_show > 0:\n",
    "    axes[n_samples_show - 1].imshow(images[n_samples_show].numpy().squeeze(), cmap='gray')\n",
    "    axes[n_samples_show - 1].set_xticks([])\n",
    "    axes[n_samples_show - 1].set_yticks([])\n",
    "    axes[n_samples_show - 1].set_title(\"Labeled: {}\".format(int(targets[n_samples_show])))\n",
    "\n",
    "    n_samples_show -= 1"
   ]
  },
  {
   "cell_type": "markdown",
   "metadata": {
    "id": "DqPApyDROEMr"
   },
   "source": [
    "## The Quantum Layer\n",
    "\n",
    "In this layer we shall define our quantum layer. Here we shall work with what is known as a quantum circuit for our logic synthesis. We shall input our data into the quantum layer using the what is known as *angle encoding*, where we use a Hadamard gate, thereby putting it in a state of superposition. Then we embed the features as an angle into the circuit. This will serve as a quantum convolution layer."
   ]
  },
  {
   "cell_type": "code",
   "execution_count": null,
   "metadata": {
    "id": "fwPTjt_sODIG"
   },
   "outputs": [],
   "source": [
    "class QuantumCircuit:\n",
    "    \"\"\"\n",
    "    This class provides a simple interface for interaction\n",
    "    with the quantum circuit\n",
    "    \"\"\"\n",
    "\n",
    "    def __init__(self, n_qubits, backend, shots):\n",
    "        # --- Circuit definition ---\n",
    "        self._circuit = qiskit.QuantumCircuit(n_qubits)\n",
    "\n",
    "        all_qubits = [i for i in range(n_qubits)]\n",
    "        self.theta = qiskit.circuit.Parameter('theta')\n",
    "\n",
    "        self._circuit.h(all_qubits)\n",
    "        self._circuit.barrier()\n",
    "        self._circuit.ry(self.theta, all_qubits)\n",
    "\n",
    "        self._circuit.measure_all()\n",
    "        # ---------------------------\n",
    "\n",
    "        self.backend = backend\n",
    "        self.shots = shots\n",
    "\n",
    "    def run(self, thetas):\n",
    "        job = qiskit.execute(self._circuit,\n",
    "                             self.backend,\n",
    "                             shots = self.shots,\n",
    "                             parameter_binds = [{self.theta: theta} for theta in thetas])\n",
    "        result = job.result().get_counts(self._circuit)\n",
    "\n",
    "        counts = np.array(list(result.values()))\n",
    "        states = np.array(list(result.keys())).astype(float)\n",
    "\n",
    "        # Compute probabilities for each state\n",
    "        probabilities = counts / self.shots\n",
    "        # Get state expectation\n",
    "        expectation = np.sum(states * probabilities)\n",
    "\n",
    "        return np.array([expectation])"
   ]
  },
  {
   "cell_type": "markdown",
   "metadata": {
    "id": "PDcUh_u_NEdv"
   },
   "source": [
    "We can measure and visualize the circuit and find the expected value of our embedding."
   ]
  },
  {
   "cell_type": "code",
   "execution_count": null,
   "metadata": {
    "colab": {
     "base_uri": "https://localhost:8080/",
     "height": 158
    },
    "id": "O7N-wkOROuuA",
    "outputId": "58f2118c-e8e6-4e8e-c07d-739b809512be"
   },
   "outputs": [
    {
     "name": "stdout",
     "output_type": "stream",
     "text": [
      "Expected value for rotation pi 0.55\n"
     ]
    },
    {
     "data": {
      "image/png": "[encoded data removed]",
      "text/plain": [
       "<Figure size 417.879x144.48 with 1 Axes>"
      ]
     },
     "execution_count": 79,
     "metadata": {
      "tags": []
     },
     "output_type": "execute_result"
    }
   ],
   "source": [
    "simulator = qiskit.Aer.get_backend('qasm_simulator')\n",
    "\n",
    "circuit = QuantumCircuit(1, simulator, 100)\n",
    "print('Expected value for rotation pi {}'.format(circuit.run([np.pi])[0]))\n",
    "circuit._circuit.draw('mpl')"
   ]
  },
  {
   "cell_type": "markdown",
   "metadata": {
    "id": "cD7pwSodNXPJ"
   },
   "source": [
    "All that is left is to interface the quantum layer with the neural network. In this case, we need to define the forward propagation and backward propagation methodology. We define our automatic differentiation for the backpropagation using the gradients to the expected value of the state post-measurement."
   ]
  },
  {
   "cell_type": "code",
   "execution_count": null,
   "metadata": {
    "id": "pSiwfZY5PNd8"
   },
   "outputs": [],
   "source": [
    "class HybridFunction(Function):\n",
    "    \"\"\" Hybrid quantum - classical function definition \"\"\"\n",
    "\n",
    "    @staticmethod\n",
    "    def forward(ctx, inputs, quantum_circuit, shift):\n",
    "        \"\"\" Forward pass computation \"\"\"\n",
    "        ctx.shift = shift\n",
    "        ctx.quantum_circuit = quantum_circuit\n",
    "\n",
    "        expectation_z = []\n",
    "        for input in inputs:\n",
    "            expectation_z.append(ctx.quantum_circuit.run(input.tolist()))\n",
    "        result = torch.tensor(expectation_z).cuda()\n",
    "\n",
    "        ctx.save_for_backward(inputs, result)\n",
    "        return result\n",
    "\n",
    "    @staticmethod\n",
    "    def backward(ctx, grad_output):\n",
    "        \"\"\" Backward pass computation \"\"\"\n",
    "        input, expectation_z = ctx.saved_tensors\n",
    "        input_list = np.array(input.tolist())\n",
    "\n",
    "        shift_right = input_list + np.ones(input_list.shape) * ctx.shift\n",
    "        shift_left = input_list - np.ones(input_list.shape) * ctx.shift\n",
    "\n",
    "        gradients = []\n",
    "        for i in range(len(input_list)):\n",
    "            expectation_right = ctx.quantum_circuit.run(shift_right[i])\n",
    "            expectation_left  = ctx.quantum_circuit.run(shift_left[i])\n",
    "\n",
    "            gradient = torch.tensor([expectation_right]).cuda() - torch.tensor([expectation_left]).cuda()\n",
    "            gradients.append(gradient)\n",
    "\n",
    "        # gradients = np.array([gradients]).T\n",
    "        gradients = torch.tensor([gradients]).cuda()\n",
    "        gradients = torch.transpose(gradients, 0, 1)\n",
    "\n",
    "        # return torch.tensor([gradients]).float() * grad_output.float(), None, None\n",
    "        return gradients.float() * grad_output.float(), None, None\n",
    "\n",
    "class Hybrid(nn.Module):\n",
    "    \"\"\" Hybrid quantum - classical layer definition \"\"\"\n",
    "\n",
    "    def __init__(self, backend, shots, shift):\n",
    "        super(Hybrid, self).__init__()\n",
    "        self.quantum_circuit = QuantumCircuit(1, backend, shots)\n",
    "        self.shift = shift\n",
    "\n",
    "    def forward(self, input):\n",
    "        return HybridFunction.apply(input, self.quantum_circuit, self.shift)"
   ]
  },
  {
   "cell_type": "markdown",
   "metadata": {
    "id": "2uXDeXm0FvOv"
   },
   "source": [
    "Now, all that is left is to piece everything together and build the neural network using everything we have so far. We add 2 convolution layer, a dropout layer and at the end, a 10 qubit hybrid quantum convolution layer."
   ]
  },
  {
   "cell_type": "code",
   "execution_count": null,
   "metadata": {
    "id": "ciE0mpCyFupC"
   },
   "outputs": [],
   "source": [
    "class Net(nn.Module):\n",
    "    def __init__(self, enable_quantum = True):\n",
    "        super(Net, self).__init__()\n",
    "\n",
    "        self.enable_quantum = enable_quantum\n",
    "\n",
    "        self.conv1 = nn.Conv2d(1, 6, kernel_size=5)\n",
    "        self.conv2 = nn.Conv2d(6, 16, kernel_size=5)\n",
    "        self.dropout = nn.Dropout2d()\n",
    "        self.fc1 = nn.Linear(256, 64)\n",
    "        self.fc2 = nn.Linear(64, 10)\n",
    "        self.hybrid = [Hybrid(qiskit.Aer.get_backend('qasm_simulator'), 100, np.pi / 2) for i in range(10)]\n",
    "\n",
    "    def forward(self, x):\n",
    "        x = F.relu(self.conv1(x))\n",
    "        x = F.max_pool2d(x, 2)\n",
    "        x = F.relu(self.conv2(x))\n",
    "        x = F.max_pool2d(x, 2)\n",
    "        x = self.dropout(x)\n",
    "        x = torch.flatten(x, start_dim=1)\n",
    "        x = F.relu(self.fc1(x))\n",
    "        x = self.fc2(x)\n",
    "        x = torch.chunk(x, 10, dim=1)\n",
    "        if self.enable_quantum:\n",
    "          x = tuple([hy(x_) for hy, x_ in zip(self.hybrid, x)])\n",
    "\n",
    "        return torch.cat(x, -1)"
   ]
  },
  {
   "cell_type": "markdown",
   "metadata": {
    "id": "ieMuIMloPnm4"
   },
   "source": [
    "A summary of the model is given as follows:"
   ]
  },
  {
   "cell_type": "code",
   "execution_count": null,
   "metadata": {
    "colab": {
     "base_uri": "https://localhost:8080/"
    },
    "id": "cOQTgGQVFogI",
    "outputId": "1a1bda34-cb07-4723-b7c1-08ffe2fdbbd7"
   },
   "outputs": [
    {
     "name": "stdout",
     "output_type": "stream",
     "text": [
      "----------------------------------------------------------------\n",
      "        Layer (type)               Output Shape         Param #\n",
      "================================================================\n",
      "            Conv2d-1            [-1, 6, 24, 24]             156\n",
      "            Conv2d-2             [-1, 16, 8, 8]           2,416\n",
      "         Dropout2d-3             [-1, 16, 4, 4]               0\n",
      "            Linear-4                   [-1, 64]          16,448\n",
      "            Linear-5                   [-1, 10]             650\n",
      "================================================================\n",
      "Total params: 19,670\n",
      "Trainable params: 19,670\n",
      "Non-trainable params: 0\n",
      "----------------------------------------------------------------\n",
      "Input size (MB): 0.00\n",
      "Forward/backward pass size (MB): 0.04\n",
      "Params size (MB): 0.08\n",
      "Estimated Total Size (MB): 0.11\n",
      "----------------------------------------------------------------\n"
     ]
    }
   ],
   "source": [
    "model = Net().cuda()\n",
    "\n",
    "summary(model, (1, 28, 28))"
   ]
  },
  {
   "cell_type": "markdown",
   "metadata": {
    "id": "j3wx57-VPhTI"
   },
   "source": [
    "Now we use the ```Adam``` optimizer and a ```CrossEntropyLoss``` to train the model on our dataset. This takes quite a bit of time, even with a GPU."
   ]
  },
  {
   "cell_type": "code",
   "execution_count": null,
   "metadata": {
    "id": "1DXmHWbIGWvk"
   },
   "outputs": [],
   "source": [
    "optimizer = optim.Adam(model.parameters(), lr=0.001)\n",
    "# loss_func = nn.NLLLoss()\n",
    "loss_func = nn.CrossEntropyLoss().cuda()\n",
    "\n",
    "epochs = 50\n",
    "loss_list = []\n",
    "\n",
    "model.train()\n",
    "for epoch in range(epochs):\n",
    "    total_loss = []\n",
    "    for batch_idx, (data, target) in enumerate(train_loader):\n",
    "        optimizer.zero_grad()\n",
    "\n",
    "        data = data.cuda()\n",
    "        target = target.cuda()\n",
    "\n",
    "        # Forward pass\n",
    "        output = model(data).cuda()\n",
    "\n",
    "        # print(\"data  \", data.size())\n",
    "        # print(\"output\", output.size())\n",
    "        # print(\"target\", target.size())\n",
    "\n",
    "        # Calculating loss\n",
    "        loss = loss_func(output, target)\n",
    "\n",
    "        # Backward pass\n",
    "        loss.backward()\n",
    "\n",
    "        # Optimize the weights\n",
    "        optimizer.step()\n",
    "\n",
    "        total_loss.append(loss.item())\n",
    "    loss_list.append(sum(total_loss)/len(total_loss))"
   ]
  },
  {
   "cell_type": "markdown",
   "metadata": {
    "id": "PMHT_DMiPrRC"
   },
   "source": [
    "## Visualization and Metrics\n",
    "\n",
    "Now that we have trained the model, we can see visualize how the model minimizes the losses."
   ]
  },
  {
   "cell_type": "code",
   "execution_count": null,
   "metadata": {
    "colab": {
     "base_uri": "https://localhost:8080/",
     "height": 313
    },
    "id": "-9hUWRBkGguY",
    "outputId": "2c8e690c-c057-4c70-a3e3-cacf748875ae"
   },
   "outputs": [
    {
     "data": {
      "text/plain": [
       "Text(0, 0.5, 'Neg Log Likelihood Loss')"
      ]
     },
     "execution_count": 104,
     "metadata": {
      "tags": []
     },
     "output_type": "execute_result"
    },
    {
     "data": {
      "image/png": "[encoded data removed]",
      "text/plain": [
       "<Figure size 432x288 with 1 Axes>"
      ]
     },
     "metadata": {
      "needs_background": "light",
      "tags": []
     },
     "output_type": "display_data"
    }
   ],
   "source": [
    "def show_loss(loss_list):\n",
    "  plt.plot(loss_list)\n",
    "  plt.title('Hybrid NN Training Convergence')\n",
    "  plt.xlabel('Training Iterations')\n",
    "  plt.ylabel('Neg Log Likelihood Loss')"
   ]
  },
  {
   "cell_type": "markdown",
   "metadata": {
    "id": "y2klmAmBQPjk"
   },
   "source": [
    "Let us now see the accuracy of the model."
   ]
  },
  {
   "cell_type": "code",
   "execution_count": null,
   "metadata": {
    "colab": {
     "base_uri": "https://localhost:8080/"
    },
    "id": "qht8PTfNJ7ZO",
    "outputId": "f32e2d76-53bf-4088-d633-26fce4c52568"
   },
   "outputs": [
    {
     "name": "stdout",
     "output_type": "stream",
     "text": [
      "Performance on test data:\n",
      "\tTotal: 2048.0000\n",
      "\tCorrect: 1717.0000\n",
      "\tLoss: 0.5187\n",
      "\tAccuracy: 83.8%\n"
     ]
    }
   ],
   "source": [
    "def evaluate(model):\n",
    "  model.eval()\n",
    "  with torch.no_grad():\n",
    "\n",
    "    correct = 0\n",
    "    total = 0\n",
    "    for batch_idx, (data, target) in enumerate(test_loader):\n",
    "\n",
    "        data = data.cuda()\n",
    "        target = target.cuda()\n",
    "\n",
    "        output = model(data).cuda()\n",
    "\n",
    "        pred = output.argmax(dim=1, keepdim=True)\n",
    "\n",
    "        correct += pred.eq(target.view_as(pred)).sum().item()\n",
    "        total += len(target)\n",
    "        loss = loss_func(output, target)\n",
    "        total_loss.append(loss.item())\n",
    "\n",
    "    print('Performance on test data:\\n\\tTotal: {:.4f}\\n\\tCorrect: {:.4f}\\n\\tLoss: {:.4f}\\n\\tAccuracy: {:.1f}%'.format(\n",
    "        total,\n",
    "        correct,\n",
    "        sum(total_loss) / len(total_loss),\n",
    "        (correct / total)*100 )\n",
    "        )"
   ]
  },
  {
   "cell_type": "markdown",
   "metadata": {
    "id": "aAuC8plAQizi"
   },
   "source": [
    "Finally, let us see how the model fares in testing. With an accuracy of around 84%, we dont expect a lot."
   ]
  },
  {
   "cell_type": "code",
   "execution_count": null,
   "metadata": {
    "colab": {
     "base_uri": "https://localhost:8080/",
     "height": 148
    },
    "id": "oFoTC7DBJ972",
    "outputId": "f63928ef-d503-4f90-a98e-25e868bb9079"
   },
   "outputs": [
    {
     "name": "stdout",
     "output_type": "stream",
     "text": [
      "16\n"
     ]
    },
    {
     "data": {
      "image/png": "[encoded data removed]",
      "text/plain": [
       "<Figure size 720x216 with 6 Axes>"
      ]
     },
     "metadata": {
      "tags": []
     },
     "output_type": "display_data"
    }
   ],
   "source": [
    "def test(model):\n",
    "  n_samples_show = 6\n",
    "  count = 0\n",
    "  fig, axes = plt.subplots(nrows=1, ncols=n_samples_show, figsize=(10, 3))\n",
    "\n",
    "  model.eval()\n",
    "  print(len(test_loader))\n",
    "  with torch.no_grad():\n",
    "    for batch_idx, (data, target) in enumerate(test_loader):\n",
    "        if count == n_samples_show:\n",
    "            break\n",
    "\n",
    "        data_cuda = data.cuda()\n",
    "        target_cuda = target.cuda()\n",
    "\n",
    "        output_cuda = model(data_cuda).cuda()\n",
    "\n",
    "        pred = output_cuda.argmax(dim=1, keepdim=True)\n",
    "\n",
    "        axes[count].imshow(data[count].numpy().squeeze(), cmap='gray')\n",
    "\n",
    "        axes[count].set_xticks([])\n",
    "        axes[count].set_yticks([])\n",
    "        axes[count].set_title('Predicted {}'.format(pred[count].item()))\n",
    "\n",
    "        count += 1"
   ]
  },
  {
   "cell_type": "markdown",
   "metadata": {
    "id": "7DVzMtoOQ3MT"
   },
   "source": [
    "In conclusion, we can see that in this case, the quantum layer does not improve the performance by any stretch. This is due to several reasons: There is information loss whenever there we try any kind of embedding technique from classical to quantum data. This could be improved with the introduction of transfer learning but a quantum layer, in this case, does nothing but bring down the accuracy of a model."
   ]
  },
  {
   "cell_type": "code",
   "execution_count": null,
   "metadata": {
    "id": "R2gy8R9YKAes"
   },
   "outputs": [],
   "source": []
  }
 ],
 "metadata": {
  "accelerator": "GPU",
  "colab": {
   "collapsed_sections": [
    "o9mEcNjV6MCa",
    "_lBalvD47kxs",
    "hv4Ubfb063QJ",
    "vfrUjtXIExi7",
    "S2zK7VH4FGys",
    "DqPApyDROEMr",
    "2uXDeXm0FvOv",
    "M3YaReG4Sb96",
    "PMHT_DMiPrRC"
   ],
   "provenance": []
  },
  "kernelspec": {
   "display_name": "Python 3 (ipykernel)",
   "language": "python",
   "name": "python3"
  },
  "language_info": {
   "codemirror_mode": {
    "name": "ipython",
    "version": 3
   },
   "file_extension": ".py",
   "mimetype": "text/x-python",
   "name": "python",
   "nbconvert_exporter": "python",
   "pygments_lexer": "ipython3",
   "version": "3.9.18"
  }
 },
 "nbformat": 4,
 "nbformat_minor": 4
}
